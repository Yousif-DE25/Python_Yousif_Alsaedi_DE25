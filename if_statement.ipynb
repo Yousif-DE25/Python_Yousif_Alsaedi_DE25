{
 "cells": [
  {
   "cell_type": "markdown",
   "id": "abb4d0a7",
   "metadata": {},
   "source": [
    "# If Statement"
   ]
  },
  {
   "cell_type": "code",
   "execution_count": 2,
   "id": "0dc11bc9",
   "metadata": {},
   "outputs": [
    {
     "name": "stdout",
     "output_type": "stream",
     "text": [
      "Drink wisely!\n"
     ]
    }
   ],
   "source": [
    "age = int(input(\"Enter your age: \"))\n",
    "age_limit = 20\n",
    "\n",
    "if age_limit > age:\n",
    "    print(\"Sorry you are too young to buy alcohol\")\n",
    "    print(\"Drink soda until then\")\n",
    "else:\n",
    "    print(\"Drink wisely!\")"
   ]
  },
  {
   "cell_type": "code",
   "execution_count": null,
   "id": "efe7d58a",
   "metadata": {},
   "outputs": [
    {
     "name": "stdout",
     "output_type": "stream",
     "text": [
      "Get longer\n"
     ]
    }
   ],
   "source": [
    "age = 18\n",
    "height = 220\n",
    "\n",
    "if age > 18 and 220 > height > 150:\n",
    "    print(\"Welcome to the club coster\")\n",
    "else:\n",
    "    print(\"Get longer\")\n"
   ]
  }
 ],
 "metadata": {
  "kernelspec": {
   "display_name": "Python_Yousif_Alsaedi_DE25",
   "language": "python",
   "name": "python3"
  },
  "language_info": {
   "codemirror_mode": {
    "name": "ipython",
    "version": 3
   },
   "file_extension": ".py",
   "mimetype": "text/x-python",
   "name": "python",
   "nbconvert_exporter": "python",
   "pygments_lexer": "ipython3",
   "version": "3.12.10"
  }
 },
 "nbformat": 4,
 "nbformat_minor": 5
}
