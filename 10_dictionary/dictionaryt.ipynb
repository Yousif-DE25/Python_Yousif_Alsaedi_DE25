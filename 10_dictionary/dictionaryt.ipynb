{
 "cells": [
  {
   "cell_type": "markdown",
   "id": "77c83434",
   "metadata": {},
   "source": [
    "# Dictionary\n",
    "- also a colletion data type\n",
    "- the data is stored in key-value pairs"
   ]
  },
  {
   "cell_type": "markdown",
   "id": "343a2d55",
   "metadata": {},
   "source": [
    "#### Create a dictionary with dict.()"
   ]
  },
  {
   "cell_type": "code",
   "execution_count": 6,
   "id": "733a5d00",
   "metadata": {},
   "outputs": [],
   "source": [
    "#instantiate a dictionary object called persion\n",
    "person = dict(\n",
    "    name = \"baboch\",\n",
    "    age = 56,\n",
    "    work = \"tradare\"\n",
    ")"
   ]
  },
  {
   "cell_type": "code",
   "execution_count": 12,
   "id": "9e704e32",
   "metadata": {},
   "outputs": [
    {
     "name": "stdout",
     "output_type": "stream",
     "text": [
      "baboch\n",
      "tradare\n"
     ]
    }
   ],
   "source": [
    "#retrive data from dictionary\n",
    "print(person[\"name\"])\n",
    "print(person[\"work\"])\n"
   ]
  },
  {
   "cell_type": "markdown",
   "id": "d4803d6e",
   "metadata": {},
   "source": [
    "### Create dictionary with {}"
   ]
  },
  {
   "cell_type": "code",
   "execution_count": 31,
   "id": "8413ea7e",
   "metadata": {},
   "outputs": [],
   "source": [
    "person = {\"name\": \"baboch\",\n",
    "          \"age\": 56,\n",
    "          \"work\": \"trad\",\n",
    "          \"intrest\": (\"punda\", \"leka me den\", \"trad\"),\n",
    "          \"adress\": (\"Land: Sverige\", \"City: stockholm\")\n",
    "          }"
   ]
  },
  {
   "cell_type": "code",
   "execution_count": 33,
   "id": "37bc5e2a",
   "metadata": {},
   "outputs": [
    {
     "name": "stdout",
     "output_type": "stream",
     "text": [
      "baboch\n",
      "punda\n",
      "City: stockholm\n"
     ]
    }
   ],
   "source": [
    "print(person[\"name\"])\n",
    "print(person[\"intrest\"][0])\n",
    "print(person[\"adress\"][1])"
   ]
  }
 ],
 "metadata": {
  "kernelspec": {
   "display_name": "Python_Yousif_Alsaedi_DE25",
   "language": "python",
   "name": "python3"
  },
  "language_info": {
   "codemirror_mode": {
    "name": "ipython",
    "version": 3
   },
   "file_extension": ".py",
   "mimetype": "text/x-python",
   "name": "python",
   "nbconvert_exporter": "python",
   "pygments_lexer": "ipython3",
   "version": "3.12.10"
  }
 },
 "nbformat": 4,
 "nbformat_minor": 5
}
