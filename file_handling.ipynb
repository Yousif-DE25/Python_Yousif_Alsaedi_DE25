{
 "cells": [
  {
   "cell_type": "markdown",
   "id": "fcef09ce",
   "metadata": {},
   "source": [
    "# File handling"
   ]
  },
  {
   "cell_type": "code",
   "execution_count": 2,
   "id": "a65ed359",
   "metadata": {},
   "outputs": [
    {
     "name": "stdout",
     "output_type": "stream",
     "text": [
      "<built-in method read of _io.TextIOWrapper object at 0x0000016C55A14D60>\n"
     ]
    }
   ],
   "source": [
    "data_path = \"09_file_handling\"\n",
    "\n",
    "path = f\"{data_path}/quotes.txt\"\n",
    "\n",
    "with open(path, \"r\") as file:\n",
    "    text = file.read\n",
    "\n",
    "print(text)\n",
    "#f = open(\"quotes.txt\" , \"r\")\n",
    "#print(f)\n",
    "\n",
    "#text = f.read()\n",
    "#print(text)\n",
    "\n"
   ]
  },
  {
   "cell_type": "code",
   "execution_count": 3,
   "id": "fd37cef6",
   "metadata": {},
   "outputs": [
    {
     "data": {
      "text/plain": [
       "<function TextIOWrapper.read(size=-1, /)>"
      ]
     },
     "execution_count": 3,
     "metadata": {},
     "output_type": "execute_result"
    }
   ],
   "source": [
    "text"
   ]
  },
  {
   "cell_type": "markdown",
   "id": "f8aaa94a",
   "metadata": {},
   "source": [
    "## Clean up\n",
    "\n",
    "- inspect txt.file\n",
    "- remove leading and trailing whitespaces\n",
    "- remvoe excessive whitespace\n",
    "- add quote number"
   ]
  },
  {
   "cell_type": "code",
   "execution_count": 4,
   "id": "58d2687d",
   "metadata": {},
   "outputs": [
    {
     "name": "stdout",
     "output_type": "stream",
     "text": [
      "If we knew what it was we were doing, it would not be called research, would it? - Albert Einstein\n",
      "\n",
      "Time is a drug. Too much of it kills you. - Terry Pratchett\n",
      "\n",
      "\n",
      "An expert is a person who has made all the mistakes that can be made in a very narrow field - Niels Bohr\n",
      "\n",
      "Everything must be made as simple as possible. But not simpler. - Albert Einstein\n",
      "\n",
      "\n",
      "Nothing in life is to be feared, it is only to be understood. Now is the time to understand more, so that we may fear less. - Marie Curie\n",
      "\n",
      "If I have seen further it is by standing on the shoulders of Giants. - Isaac Newton\n"
     ]
    }
   ],
   "source": [
    "import re \n",
    "\n",
    "i = 1\n",
    "with open(path, \"r\") as f_read, open(f\"{data_path}/quotes_cleaned.txt\", \"w\")as f_write:\n",
    "\n",
    "    f_write.write(\"Famous quotes\\n\\n\")\n",
    "    for quote in f_read:\n",
    "        quote = quote.strip(\" \\n\")\n",
    "        quote = re.sub(\" +\", \" \", quote)\n",
    "        print(quote)\n",
    "        \n",
    "        if quote != \"\":\n",
    "            f_write.write(f\"{i}. {quote}\\n\")\n",
    "            i += 1"
   ]
  }
 ],
 "metadata": {
  "kernelspec": {
   "display_name": "Python_Yousif_Alsaedi_DE25",
   "language": "python",
   "name": "python3"
  },
  "language_info": {
   "codemirror_mode": {
    "name": "ipython",
    "version": 3
   },
   "file_extension": ".py",
   "mimetype": "text/x-python",
   "name": "python",
   "nbconvert_exporter": "python",
   "pygments_lexer": "ipython3",
   "version": "3.12.10"
  }
 },
 "nbformat": 4,
 "nbformat_minor": 5
}
