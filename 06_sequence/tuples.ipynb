{
 "cells": [
  {
   "cell_type": "markdown",
   "id": "2ba021d4",
   "metadata": {},
   "source": [
    "# Tuples "
   ]
  },
  {
   "cell_type": "code",
   "execution_count": 14,
   "id": "dbd81f6d",
   "metadata": {},
   "outputs": [
    {
     "data": {
      "text/plain": [
       "('Toffah', 69, True, 2.45)"
      ]
     },
     "execution_count": 14,
     "metadata": {},
     "output_type": "execute_result"
    }
   ],
   "source": [
    "mixed_tuples = (\"Toffah\", 69, True, 2.45)\n",
    "mixed_tuples"
   ]
  },
  {
   "cell_type": "code",
   "execution_count": 16,
   "id": "0140adbb",
   "metadata": {},
   "outputs": [
    {
     "data": {
      "text/plain": [
       "True"
      ]
     },
     "execution_count": 16,
     "metadata": {},
     "output_type": "execute_result"
    }
   ],
   "source": [
    "mixed_tuples[2]\n"
   ]
  },
  {
   "cell_type": "code",
   "execution_count": 18,
   "id": "4a924778",
   "metadata": {},
   "outputs": [
    {
     "data": {
      "text/plain": [
       "('Toffah', 69)"
      ]
     },
     "execution_count": 18,
     "metadata": {},
     "output_type": "execute_result"
    }
   ],
   "source": [
    "mixed_tuples[:2]"
   ]
  },
  {
   "cell_type": "code",
   "execution_count": 26,
   "id": "2f93b7c6",
   "metadata": {},
   "outputs": [
    {
     "data": {
      "text/plain": [
       "([1, 3], [2, 6])"
      ]
     },
     "execution_count": 26,
     "metadata": {},
     "output_type": "execute_result"
    }
   ],
   "source": [
    "cooridnats = ([1,3],[2,6])\n",
    "cooridnats"
   ]
  },
  {
   "cell_type": "code",
   "execution_count": 36,
   "id": "af49aee7",
   "metadata": {},
   "outputs": [
    {
     "data": {
      "text/plain": [
       "([24, 12], [2, 6])"
      ]
     },
     "execution_count": 36,
     "metadata": {},
     "output_type": "execute_result"
    }
   ],
   "source": [
    "cooridnats[0][0] = 24\n",
    "cooridnats[0][1] = 12\n",
    "cooridnats "
   ]
  },
  {
   "cell_type": "markdown",
   "id": "adc6e8a6",
   "metadata": {},
   "source": [
    "## tuples unpacking"
   ]
  },
  {
   "cell_type": "code",
   "execution_count": 42,
   "id": "f53517f0",
   "metadata": {},
   "outputs": [
    {
     "data": {
      "text/plain": [
       "3"
      ]
     },
     "execution_count": 42,
     "metadata": {},
     "output_type": "execute_result"
    }
   ],
   "source": [
    "x,y,z = (1,2,3)\n",
    "z"
   ]
  },
  {
   "cell_type": "code",
   "execution_count": 43,
   "id": "09137dde",
   "metadata": {},
   "outputs": [
    {
     "name": "stdout",
     "output_type": "stream",
     "text": [
      "x = 3, z =1\n"
     ]
    }
   ],
   "source": [
    "x,z = z,x\n",
    "print(f\"{x = }, {z =}\")"
   ]
  }
 ],
 "metadata": {
  "kernelspec": {
   "display_name": "Python_Yousif_Alsaedi_DE25",
   "language": "python",
   "name": "python3"
  },
  "language_info": {
   "codemirror_mode": {
    "name": "ipython",
    "version": 3
   },
   "file_extension": ".py",
   "mimetype": "text/x-python",
   "name": "python",
   "nbconvert_exporter": "python",
   "pygments_lexer": "ipython3",
   "version": "3.12.10"
  }
 },
 "nbformat": 4,
 "nbformat_minor": 5
}
