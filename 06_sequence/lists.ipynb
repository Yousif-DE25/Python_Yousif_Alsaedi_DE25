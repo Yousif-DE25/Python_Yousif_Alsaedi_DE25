{
 "cells": [
  {
   "cell_type": "markdown",
   "id": "34c896d3",
   "metadata": {},
   "source": [
    "# Lists"
   ]
  },
  {
   "cell_type": "code",
   "execution_count": 9,
   "id": "de84e5c5",
   "metadata": {},
   "outputs": [
    {
     "data": {
      "text/plain": [
       "['Cartoons', 'News', 'Scifi', 'Cooking']"
      ]
     },
     "execution_count": 9,
     "metadata": {},
     "output_type": "execute_result"
    }
   ],
   "source": [
    "tv_shows = [\"Cartoons\", \"News\", \"Scifi\", \"Cooking\"]\n",
    "tv_shows"
   ]
  },
  {
   "cell_type": "code",
   "execution_count": 9,
   "id": "8668ab52",
   "metadata": {},
   "outputs": [
    {
     "data": {
      "text/plain": [
       "'c'"
      ]
     },
     "execution_count": 9,
     "metadata": {},
     "output_type": "execute_result"
    }
   ],
   "source": [
    "tv_shows[3][+0]"
   ]
  },
  {
   "cell_type": "code",
   "execution_count": null,
   "id": "5c948863",
   "metadata": {},
   "outputs": [
    {
     "data": {
      "text/plain": [
       "['Cartoons', 'News']"
      ]
     },
     "execution_count": 13,
     "metadata": {},
     "output_type": "execute_result"
    }
   ],
   "source": [
    "tv_shows[0:2]\n",
    "#slicing"
   ]
  },
  {
   "cell_type": "markdown",
   "id": "62e86d56",
   "metadata": {},
   "source": [
    "## Iterate through list"
   ]
  },
  {
   "cell_type": "code",
   "execution_count": 11,
   "id": "b3c76d63",
   "metadata": {},
   "outputs": [
    {
     "name": "stdout",
     "output_type": "stream",
     "text": [
      "1 Cartoons 2 News 3 Scifi 4 Cooking "
     ]
    }
   ],
   "source": [
    "for i, tv_show in enumerate(tv_shows,1):\n",
    "    print(i, tv_show, end = \" \")"
   ]
  },
  {
   "cell_type": "markdown",
   "id": "f0f174f9",
   "metadata": {},
   "source": [
    "## Mutate list"
   ]
  },
  {
   "cell_type": "code",
   "execution_count": 12,
   "id": "16e469ac",
   "metadata": {},
   "outputs": [
    {
     "data": {
      "text/plain": [
       "['Cartoons', 'News', 'Scifi', 'Marvel']"
      ]
     },
     "execution_count": 12,
     "metadata": {},
     "output_type": "execute_result"
    }
   ],
   "source": [
    "tv_shows[-1] = \"Marvel\"\n",
    "tv_shows"
   ]
  },
  {
   "cell_type": "code",
   "execution_count": 13,
   "id": "2d1f65bc",
   "metadata": {},
   "outputs": [
    {
     "data": {
      "text/plain": [
       "['Cartoons', 'Marvel', 'News', 'Scifi']"
      ]
     },
     "execution_count": 13,
     "metadata": {},
     "output_type": "execute_result"
    }
   ],
   "source": [
    "tv_shows.sort()\n",
    "tv_shows"
   ]
  },
  {
   "cell_type": "markdown",
   "id": "4be2423e",
   "metadata": {},
   "source": [
    "## List comprehension"
   ]
  },
  {
   "cell_type": "code",
   "execution_count": 16,
   "id": "753346fc",
   "metadata": {},
   "outputs": [
    {
     "data": {
      "text/plain": [
       "[0, 1, 8, 27, 64]"
      ]
     },
     "execution_count": 16,
     "metadata": {},
     "output_type": "execute_result"
    }
   ],
   "source": [
    "cubes = [x**3 for x in range(5)]\n",
    "cubes"
   ]
  },
  {
   "cell_type": "code",
   "execution_count": 20,
   "id": "fe0dd6a2",
   "metadata": {},
   "outputs": [
    {
     "data": {
      "text/plain": [
       "[27, 64, 125, 216, 343, 512, 729]"
      ]
     },
     "execution_count": 20,
     "metadata": {},
     "output_type": "execute_result"
    }
   ],
   "source": [
    "[x**3 for x in range(10) if x**3 > 25]"
   ]
  },
  {
   "cell_type": "markdown",
   "id": "b11c032e",
   "metadata": {},
   "source": [
    "## Plot graph"
   ]
  },
  {
   "cell_type": "code",
   "execution_count": 36,
   "id": "ac806e0c",
   "metadata": {},
   "outputs": [
    {
     "data": {
      "text/plain": [
       "[0, 1, 2, 3, 4, 5, 6, 7, 8, 9, 10, 11]"
      ]
     },
     "execution_count": 36,
     "metadata": {},
     "output_type": "execute_result"
    }
   ],
   "source": [
    "import matplotlib.pyplot as plt\n",
    "\n",
    "x = list(range(12))\n",
    "x"
   ]
  },
  {
   "cell_type": "code",
   "execution_count": 37,
   "id": "a630615f",
   "metadata": {},
   "outputs": [
    {
     "data": {
      "text/plain": [
       "[3, 7, 11, 15, 19, 23, 27, 31, 35, 39, 43, 47]"
      ]
     },
     "execution_count": 37,
     "metadata": {},
     "output_type": "execute_result"
    }
   ],
   "source": [
    "k = 4\n",
    "m = 3\n",
    "\n",
    "y = [k*x+m for x in x]\n",
    "y"
   ]
  },
  {
   "cell_type": "code",
   "execution_count": 40,
   "id": "ddc1c291",
   "metadata": {},
   "outputs": [
    {
     "data": {
      "text/plain": [
       "Text(0.5, 1.0, 'Plot y=4x+3')"
      ]
     },
     "execution_count": 40,
     "metadata": {},
     "output_type": "execute_result"
    },
    {
     "data": {
      "image/png": "[encoded data removed]",
      "text/plain": [
       "<Figure size 640x480 with 1 Axes>"
      ]
     },
     "metadata": {},
     "output_type": "display_data"
    }
   ],
   "source": [
    "plt.plot(x,y, 'o--')\n",
    "plt.title(\"Plot y=4x+3\")"
   ]
  }
 ],
 "metadata": {
  "kernelspec": {
   "display_name": "Python_Yousif_Alsaedi_DE25",
   "language": "python",
   "name": "python3"
  },
  "language_info": {
   "codemirror_mode": {
    "name": "ipython",
    "version": 3
   },
   "file_extension": ".py",
   "mimetype": "text/x-python",
   "name": "python",
   "nbconvert_exporter": "python",
   "pygments_lexer": "ipython3",
   "version": "3.12.10"
  }
 },
 "nbformat": 4,
 "nbformat_minor": 5
}
