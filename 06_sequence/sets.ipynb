{
 "cells": [
  {
   "cell_type": "markdown",
   "id": "bf1c1971",
   "metadata": {},
   "source": [
    "# Sets"
   ]
  },
  {
   "cell_type": "code",
   "execution_count": 1,
   "id": "59bd1a79",
   "metadata": {},
   "outputs": [
    {
     "data": {
      "text/plain": [
       "['paulo@example.com',\n",
       " 'kristian@example.com',\n",
       " 'erifisk@example.com',\n",
       " 'klivare@example.com']"
      ]
     },
     "execution_count": 1,
     "metadata": {},
     "output_type": "execute_result"
    }
   ],
   "source": [
    "emails = [\"paulo@example.com\", \"kristian@example.com\", \"erifisk@example.com\",\"klivare@example.com\"]\n",
    "emails"
   ]
  },
  {
   "cell_type": "code",
   "execution_count": 2,
   "id": "597d27cd",
   "metadata": {},
   "outputs": [
    {
     "data": {
      "text/plain": [
       "{'erifisk@example.com',\n",
       " 'klivare@example.com',\n",
       " 'kristian@example.com',\n",
       " 'paulo@example.com'}"
      ]
     },
     "execution_count": 2,
     "metadata": {},
     "output_type": "execute_result"
    }
   ],
   "source": [
    "set(emails)"
   ]
  },
  {
   "cell_type": "code",
   "execution_count": 3,
   "id": "711d8cea",
   "metadata": {},
   "outputs": [
    {
     "data": {
      "text/plain": [
       "['kristian@example.com',\n",
       " 'paulo@example.com',\n",
       " 'klivare@example.com',\n",
       " 'erifisk@example.com']"
      ]
     },
     "execution_count": 3,
     "metadata": {},
     "output_type": "execute_result"
    }
   ],
   "source": [
    "list(set(emails))"
   ]
  },
  {
   "cell_type": "markdown",
   "id": "de44aa56",
   "metadata": {},
   "source": [
    "## Mathematical set operation\n",
    "\n",
    "- union\n",
    "- intersection\n",
    "- except"
   ]
  },
  {
   "cell_type": "code",
   "execution_count": 4,
   "id": "af0e2751",
   "metadata": {},
   "outputs": [
    {
     "data": {
      "text/plain": [
       "{'Alawie', 'Hamodi'}"
      ]
     },
     "execution_count": 4,
     "metadata": {},
     "output_type": "execute_result"
    }
   ],
   "source": [
    "first_moush = {\"Kristian\", \"Ali\", \"Hamodi\", \"Alawie\"}\n",
    "second_moush = {\"Paulo\", \"Hamodi\", \"Alawie\", \"Dystinct\"}\n",
    "\n",
    "returning_moush = first_moush.intersection(second_moush)\n",
    "returning_moush"
   ]
  },
  {
   "cell_type": "code",
   "execution_count": 5,
   "id": "3dbe64a5",
   "metadata": {},
   "outputs": [
    {
     "data": {
      "text/plain": [
       "{'Alawie', 'Ali', 'Dystinct', 'Hamodi', 'Kristian', 'Paulo'}"
      ]
     },
     "execution_count": 5,
     "metadata": {},
     "output_type": "execute_result"
    }
   ],
   "source": [
    "all_moush = first_moush.union(second_moush)\n",
    "all_moush"
   ]
  },
  {
   "cell_type": "markdown",
   "id": "a582ff75",
   "metadata": {},
   "source": [
    "Combine union and intersection"
   ]
  },
  {
   "cell_type": "code",
   "execution_count": 6,
   "id": "6149b0c3",
   "metadata": {},
   "outputs": [
    {
     "data": {
      "text/plain": [
       "{'Ali', 'Dystinct', 'Kristian', 'Paulo'}"
      ]
     },
     "execution_count": 6,
     "metadata": {},
     "output_type": "execute_result"
    }
   ],
   "source": [
    "one_time_moush = first_moush.union(second_moush) - first_moush.intersection(second_moush)\n",
    "one_time_moush"
   ]
  },
  {
   "cell_type": "code",
   "execution_count": 7,
   "id": "5ce3bc38",
   "metadata": {},
   "outputs": [
    {
     "data": {
      "text/plain": [
       "{'Alawie', 'Dystinct', 'Hamodi', 'Paulo'}"
      ]
     },
     "execution_count": 7,
     "metadata": {},
     "output_type": "execute_result"
    }
   ],
   "source": [
    "second_moush"
   ]
  },
  {
   "cell_type": "code",
   "execution_count": 8,
   "id": "fb9e35c3",
   "metadata": {},
   "outputs": [
    {
     "data": {
      "text/plain": [
       "['Hamodi', 'Kristian', 'Dystinct', 'Paulo', 'Ali', 'Alawie']"
      ]
     },
     "execution_count": 8,
     "metadata": {},
     "output_type": "execute_result"
    }
   ],
   "source": [
    "list(all_moush)"
   ]
  },
  {
   "cell_type": "code",
   "execution_count": 9,
   "id": "8ad65090",
   "metadata": {},
   "outputs": [
    {
     "data": {
      "text/plain": [
       "('Hamodi', 'Kristian', 'Dystinct', 'Paulo', 'Ali', 'Alawie')"
      ]
     },
     "execution_count": 9,
     "metadata": {},
     "output_type": "execute_result"
    }
   ],
   "source": [
    "tuple(all_moush)"
   ]
  }
 ],
 "metadata": {
  "kernelspec": {
   "display_name": "Python_Yousif_Alsaedi_DE25",
   "language": "python",
   "name": "python3"
  },
  "language_info": {
   "codemirror_mode": {
    "name": "ipython",
    "version": 3
   },
   "file_extension": ".py",
   "mimetype": "text/x-python",
   "name": "python",
   "nbconvert_exporter": "python",
   "pygments_lexer": "ipython3",
   "version": "3.12.10"
  }
 },
 "nbformat": 4,
 "nbformat_minor": 5
}
