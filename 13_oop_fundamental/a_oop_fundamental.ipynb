{
 "cells": [
  {
   "cell_type": "markdown",
   "id": "b0fb995c",
   "metadata": {},
   "source": [
    "# Fundamental"
   ]
  },
  {
   "cell_type": "code",
   "execution_count": 13,
   "id": "f1cd5721",
   "metadata": {},
   "outputs": [
    {
     "data": {
      "text/plain": [
       "'program data'"
      ]
     },
     "execution_count": 13,
     "metadata": {},
     "output_type": "execute_result"
    }
   ],
   "source": [
    "# define class with name\n",
    "class Admission:\n",
    "    # init - initalizer - \"__init__\"\n",
    "    # method that will instantiate an instence from class\n",
    "    def __init__(self, school, name, program = \"program data\"):\n",
    "        self.school = school\n",
    "        self.name = name\n",
    "        self.program = program\n",
    "\n",
    "# instance P1 it type of admission\n",
    "p1 = Admission(\"STI\", \"Olle\")\n",
    "\n",
    "p1.program"
   ]
  },
  {
   "cell_type": "code",
   "execution_count": 15,
   "id": "9d6868a2",
   "metadata": {},
   "outputs": [
    {
     "data": {
      "text/plain": [
       "'Blade'"
      ]
     },
     "execution_count": 15,
     "metadata": {},
     "output_type": "execute_result"
    }
   ],
   "source": [
    "p2 = Admission(name = \"Blade\", school = \"S School\", program = \"C++\")\n",
    "p2.name"
   ]
  },
  {
   "cell_type": "markdown",
   "id": "58e221b3",
   "metadata": {},
   "source": [
    "## Note on memory\n",
    "\n",
    "by default, the \\_\\_repr\\_\\_ of an instance is showing memory adress of where instance lives\n",
    "- each instance of class lives in diffrent memory, diffrent objects"
   ]
  },
  {
   "cell_type": "code",
   "execution_count": 20,
   "id": "4f7fa754",
   "metadata": {},
   "outputs": [
    {
     "data": {
      "text/plain": [
       "(<__main__.Admission at 0x1c8ef253d40>, <__main__.Admission at 0x1c8f08953d0>)"
      ]
     },
     "execution_count": 20,
     "metadata": {},
     "output_type": "execute_result"
    }
   ],
   "source": [
    "p1, p2"
   ]
  },
  {
   "cell_type": "code",
   "execution_count": 21,
   "id": "23bf7c1c",
   "metadata": {},
   "outputs": [
    {
     "data": {
      "text/plain": [
       "<__main__.Admission at 0x1c8f08956d0>"
      ]
     },
     "execution_count": 21,
     "metadata": {},
     "output_type": "execute_result"
    }
   ],
   "source": [
    "p3 = Admission(name = \"Blade\", school = \"S School\", program = \"C++\")\n",
    "p3"
   ]
  },
  {
   "cell_type": "markdown",
   "id": "d5a2959a",
   "metadata": {},
   "source": [
    "## implement class student"
   ]
  },
  {
   "cell_type": "code",
   "execution_count": 12,
   "id": "dd873924",
   "metadata": {},
   "outputs": [
    {
     "name": "stdout",
     "output_type": "stream",
     "text": [
      "Anna studies data engineering\n"
     ]
    }
   ],
   "source": [
    "class Student:\n",
    "    def __init__(self, name, type_of_study, passcource, school, age):\n",
    "        self.name = name\n",
    "        self.type_of_study = type_of_study\n",
    "        self.school = school\n",
    "        self.age = age\n",
    "        self.passcource = passcource\n",
    "\n",
    "    def study(self):\n",
    "        print(f\"{self.name} studies {self.type_of_study}\")\n",
    "\n",
    "s1 = Student(name = \"Anna\", type_of_study = \"data engineering\", passcource = \"yes\", school = \"STI\", age = 23)\n",
    "\n",
    "s1.study()"
   ]
  },
  {
   "cell_type": "markdown",
   "id": "f2a93d03",
   "metadata": {},
   "source": [
    "##"
   ]
  },
  {
   "cell_type": "code",
   "execution_count": 29,
   "id": "52b52938",
   "metadata": {},
   "outputs": [
    {
     "data": {
      "text/plain": [
       "Student (name = 'Beda', age =  33, study = 'UX', school = 'STI', passcource = No)"
      ]
     },
     "execution_count": 29,
     "metadata": {},
     "output_type": "execute_result"
    }
   ],
   "source": [
    "class Student:\n",
    "    def __init__(self, name, type_of_study, passcource, school, age):\n",
    "        self.name = name\n",
    "        self.type_of_study = type_of_study\n",
    "        self.school = school\n",
    "        self.age = age\n",
    "        self.passcource = passcource\n",
    "\n",
    "    def study(self):\n",
    "        print(f\"{self.name} studies {self.type_of_study}\")\n",
    "\n",
    "    def __str__(self):\n",
    "        return f\"{self.name} is {self.age} years and studies {self.type_of_study} at {self.school}\"\n",
    "\n",
    "    def __repr__(self):\n",
    "        # student(name = \"Beda\", type_of_study = \"UX\", passcource = False, school = \"STI\", age = 33)\n",
    "        return f\"Student (name = '{self.name}', age =  {self.age}, study = '{self.type_of_study}', school = '{self.school}', passcource = {self.passcource})\"\n",
    "\n",
    "s2 = Student(name = \"Beda\", type_of_study = \"UX\", passcource = \"No\", school = \"STI\", age = 33)\n",
    "\n",
    "s2\n",
    "# repr(s2), print(s2) works as str(s2)"
   ]
  },
  {
   "cell_type": "code",
   "execution_count": 28,
   "id": "5a77a1e5",
   "metadata": {},
   "outputs": [
    {
     "name": "stdout",
     "output_type": "stream",
     "text": [
      "Beda is 33 years and studies UX at STI\n"
     ]
    }
   ],
   "source": [
    "print(s2)"
   ]
  }
 ],
 "metadata": {
  "kernelspec": {
   "display_name": "Python_Yousif_Alsaedi_DE25",
   "language": "python",
   "name": "python3"
  },
  "language_info": {
   "codemirror_mode": {
    "name": "ipython",
    "version": 3
   },
   "file_extension": ".py",
   "mimetype": "text/x-python",
   "name": "python",
   "nbconvert_exporter": "python",
   "pygments_lexer": "ipython3",
   "version": "3.12.10"
  }
 },
 "nbformat": 4,
 "nbformat_minor": 5
}
