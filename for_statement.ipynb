{
 "cells": [
  {
   "cell_type": "markdown",
   "id": "0dca97aa",
   "metadata": {},
   "source": [
    "# for statement"
   ]
  },
  {
   "cell_type": "code",
   "execution_count": 5,
   "id": "3cd09ef8",
   "metadata": {},
   "outputs": [
    {
     "name": "stdout",
     "output_type": "stream",
     "text": [
      "0\n",
      "1\n",
      "2\n",
      "3\n"
     ]
    }
   ],
   "source": [
    "for i in range(4):\n",
    "    print(i)"
   ]
  },
  {
   "cell_type": "code",
   "execution_count": 6,
   "id": "389b3ade",
   "metadata": {},
   "outputs": [
    {
     "name": "stdout",
     "output_type": "stream",
     "text": [
      "numbers 0\n",
      "numbers 1\n"
     ]
    }
   ],
   "source": [
    "for i in range(2):\n",
    "    print(f\"numbers {i}\")"
   ]
  },
  {
   "cell_type": "code",
   "execution_count": 8,
   "id": "1da6ecd6",
   "metadata": {},
   "outputs": [
    {
     "name": "stdout",
     "output_type": "stream",
     "text": [
      "0 1 2 3 4 5 6 7 8 9 10 11 12 13 14 15 16 17 18 19 20 21 22 23 24 25 26 27 28 29 "
     ]
    }
   ],
   "source": [
    "for i in range(30):\n",
    "    print(i, end = \" \")"
   ]
  },
  {
   "cell_type": "code",
   "execution_count": 9,
   "id": "dcd8342f",
   "metadata": {},
   "outputs": [
    {
     "name": "stdout",
     "output_type": "stream",
     "text": [
      "15 16 17 18 19 20 21 22 23 24 25 26 27 28 29 "
     ]
    }
   ],
   "source": [
    "for i in range(15,30):\n",
    "    print(i, end = \" \")"
   ]
  },
  {
   "cell_type": "code",
   "execution_count": 15,
   "id": "51a04fec",
   "metadata": {},
   "outputs": [
    {
     "name": "stdout",
     "output_type": "stream",
     "text": [
      "15 18 21 24 27 "
     ]
    }
   ],
   "source": [
    "for i in range(15,30, 3):\n",
    "    print(i, end = \" \")"
   ]
  },
  {
   "cell_type": "code",
   "execution_count": 18,
   "id": "19a65508",
   "metadata": {},
   "outputs": [
    {
     "name": "stdout",
     "output_type": "stream",
     "text": [
      "1+2+3+2 = 8\n"
     ]
    }
   ],
   "source": [
    "sum_ = 0 \n",
    "\n",
    "for i in range(8):\n",
    "    sum_ += 1\n",
    "\n",
    "print(f\"1+2+3+2 = {sum_}\")"
   ]
  },
  {
   "cell_type": "markdown",
   "id": "4ea33f42",
   "metadata": {},
   "source": [
    "## ramdom module"
   ]
  },
  {
   "cell_type": "code",
   "execution_count": 64,
   "id": "38c1cba5",
   "metadata": {},
   "outputs": [
    {
     "name": "stdout",
     "output_type": "stream",
     "text": [
      "number of sixes 1594 in 9500 dice rolls\n",
      "prob of getting six 0.1678\n"
     ]
    }
   ],
   "source": [
    "import random as rnd\n",
    "\n",
    "dice_rolls = 9500\n",
    "num_six = 0\n",
    "\n",
    "for i in range(dice_rolls):\n",
    "    dice = rnd.randint(1,6)\n",
    "    if dice == 6:\n",
    "        num_six +=1\n",
    "\n",
    "print(f\"number of sixes {num_six} in {dice_rolls} dice rolls\")\n",
    "print(f\"prob of getting six {num_six/dice_rolls:.4f}\")"
   ]
  },
  {
   "cell_type": "markdown",
   "id": "c3c0c421",
   "metadata": {},
   "source": [
    "## Loop through list"
   ]
  },
  {
   "cell_type": "code",
   "execution_count": 66,
   "id": "df03727c",
   "metadata": {},
   "outputs": [
    {
     "data": {
      "text/plain": [
       "['Pineapple', 'grapefruit', 'skogsbär']"
      ]
     },
     "execution_count": 66,
     "metadata": {},
     "output_type": "execute_result"
    }
   ],
   "source": [
    "fruits = [\"Pineapple\",\"grapefruit\",\"skogsbär\"]\n",
    "fruits"
   ]
  },
  {
   "cell_type": "code",
   "execution_count": null,
   "id": "fb325db8",
   "metadata": {},
   "outputs": [
    {
     "name": "stdout",
     "output_type": "stream",
     "text": [
      "I like to eat\n",
      "Pineapple\n",
      "grapefruit\n",
      "skogsbär\n"
     ]
    }
   ],
   "source": [
    "print(\"I like to eat\")\n",
    "for fruit in fruits:\n",
    "    print(fruit)"
   ]
  },
  {
   "cell_type": "code",
   "execution_count": 74,
   "id": "6cbbaf13",
   "metadata": {},
   "outputs": [
    {
     "name": "stdout",
     "output_type": "stream",
     "text": [
      "I like to eat\n",
      "1. Pineapple\n",
      "2. grapefruit\n",
      "3. skogsbär\n"
     ]
    }
   ],
   "source": [
    "print(\"I like to eat\")\n",
    "for i, fruit in enumerate(fruits, 1):\n",
    "    print(f\"{i}. {fruit}\")"
   ]
  },
  {
   "cell_type": "code",
   "execution_count": 78,
   "id": "9dcf9f2d",
   "metadata": {},
   "outputs": [
    {
     "name": "stdout",
     "output_type": "stream",
     "text": [
      "Fruit               Recipe\n",
      "Pineapple            Jucie\n",
      "grapefruit           shake\n",
      "skogsbär             pie\n"
     ]
    }
   ],
   "source": [
    "fruits = [\"Pineapple\",\"grapefruit\",\"skogsbär\"] \n",
    "recipes = [\"Jucie\",\"shake\",\"pie\"]\n",
    "\n",
    "print(f\"{'Fruit':<20}Recipe\")\n",
    "for fruit, recipe in zip(fruits, recipes):\n",
    "    print(f\"{fruit:<20} {recipe}\")"
   ]
  },
  {
   "cell_type": "markdown",
   "id": "509b9949",
   "metadata": {},
   "source": [
    "## Nested for loop"
   ]
  },
  {
   "cell_type": "code",
   "execution_count": 89,
   "id": "82bd66b6",
   "metadata": {},
   "outputs": [
    {
     "name": "stdout",
     "output_type": "stream",
     "text": [
      "(0,0) (0,1) (0,2) (0,3) \n",
      "(1,0) (1,1) (1,2) (1,3) \n",
      "(2,0) (2,1) (2,2) (2,3) \n"
     ]
    }
   ],
   "source": [
    "for x in range(3):\n",
    "    for y in range(4):\n",
    "        print(f\"({x},{y})\", end = \" \")\n",
    "    print()"
   ]
  }
 ],
 "metadata": {
  "kernelspec": {
   "display_name": "Python_Yousif_Alsaedi_DE25",
   "language": "python",
   "name": "python3"
  },
  "language_info": {
   "codemirror_mode": {
    "name": "ipython",
    "version": 3
   },
   "file_extension": ".py",
   "mimetype": "text/x-python",
   "name": "python",
   "nbconvert_exporter": "python",
   "pygments_lexer": "ipython3",
   "version": "3.12.10"
  }
 },
 "nbformat": 4,
 "nbformat_minor": 5
}
