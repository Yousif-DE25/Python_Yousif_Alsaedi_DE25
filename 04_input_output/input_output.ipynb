{
 "cells": [
  {
   "cell_type": "markdown",
   "id": "75af0d85",
   "metadata": {},
   "source": [
    "# Input and output"
   ]
  },
  {
   "cell_type": "code",
   "execution_count": 2,
   "id": "35da1172",
   "metadata": {},
   "outputs": [
    {
     "name": "stdout",
     "output_type": "stream",
     "text": [
      "hello world\n"
     ]
    }
   ],
   "source": [
    "print(\"hello world\")"
   ]
  },
  {
   "cell_type": "markdown",
   "id": "3c7436d2",
   "metadata": {},
   "source": [
    "## Inputs"
   ]
  },
  {
   "cell_type": "code",
   "execution_count": 3,
   "id": "0cb780d7",
   "metadata": {},
   "outputs": [
    {
     "name": "stdout",
     "output_type": "stream",
     "text": [
      "Ditt namn är Sousa\n"
     ]
    }
   ],
   "source": [
    "name = \"Sousa\"\n",
    "print (f\"Ditt namn är {name}\")"
   ]
  },
  {
   "cell_type": "code",
   "execution_count": 6,
   "id": "33fa34f1",
   "metadata": {},
   "outputs": [
    {
     "name": "stdout",
     "output_type": "stream",
     "text": [
      "Min kuk är 69 år gammal\n"
     ]
    }
   ],
   "source": [
    "name = input(\"Vad är ditt namn?\")\n",
    "age = input(\"Hur gammal är du?\")\n",
    "\n",
    "print(f\"{name} är {age} år gammal\")\n",
    "      "
   ]
  },
  {
   "cell_type": "markdown",
   "id": "a84fab7c",
   "metadata": {},
   "source": [
    "## Type coercion"
   ]
  },
  {
   "cell_type": "code",
   "execution_count": 10,
   "id": "db133a18",
   "metadata": {},
   "outputs": [
    {
     "name": "stdout",
     "output_type": "stream",
     "text": [
      "force = 726.7N\n"
     ]
    }
   ],
   "source": [
    "gravity = 9.82\n",
    "mass = float(input(\"Skriv din vikt: \"))\n",
    "\n",
    "force = mass*gravity\n",
    "print(f\"{force = :.1f}N\")\n",
    "\n",
    "\n"
   ]
  },
  {
   "cell_type": "markdown",
   "id": "da858120",
   "metadata": {},
   "source": [
    "## More types"
   ]
  },
  {
   "cell_type": "code",
   "execution_count": 11,
   "id": "9e3e1958",
   "metadata": {},
   "outputs": [
    {
     "data": {
      "text/plain": [
       "(int, str, bool, float)"
      ]
     },
     "execution_count": 11,
     "metadata": {},
     "output_type": "execute_result"
    }
   ],
   "source": [
    "Radius = 10\n",
    "Geometry = \"Cirkel\"\n",
    "is_unit_Cirkel = False\n",
    "Screen_inches = 25.7\n",
    "\n",
    "type(Radius),type(Geometry),type(is_unit_Cirkel),type(Screen_inches)"
   ]
  }
 ],
 "metadata": {
  "kernelspec": {
   "display_name": "Python_Yousif_Alsaedi_DE25",
   "language": "python",
   "name": "python3"
  },
  "language_info": {
   "codemirror_mode": {
    "name": "ipython",
    "version": 3
   },
   "file_extension": ".py",
   "mimetype": "text/x-python",
   "name": "python",
   "nbconvert_exporter": "python",
   "pygments_lexer": "ipython3",
   "version": "3.12.10"
  }
 },
 "nbformat": 4,
 "nbformat_minor": 5
}
