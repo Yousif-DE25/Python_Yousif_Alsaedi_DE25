{
 "cells": [
  {
   "cell_type": "markdown",
   "id": "8e013c30",
   "metadata": {},
   "source": [
    "# Error handling"
   ]
  },
  {
   "cell_type": "code",
   "execution_count": 4,
   "id": "7d4c7c43",
   "metadata": {},
   "outputs": [
    {
     "ename": "SyntaxError",
     "evalue": "expected ':' (1303163197.py, line 1)",
     "output_type": "error",
     "traceback": [
      "  \u001b[36mCell\u001b[39m\u001b[36m \u001b[39m\u001b[32mIn[4]\u001b[39m\u001b[32m, line 1\u001b[39m\n\u001b[31m    \u001b[39m\u001b[31mif 6<7\u001b[39m\n          ^\n\u001b[31mSyntaxError\u001b[39m\u001b[31m:\u001b[39m expected ':'\n"
     ]
    }
   ],
   "source": [
    "if 6<7\n",
    "    print(\"six is less then seven\")\n"
   ]
  },
  {
   "cell_type": "markdown",
   "id": "7b01a99f",
   "metadata": {},
   "source": [
    "exception errors or runtime error"
   ]
  },
  {
   "cell_type": "code",
   "execution_count": 6,
   "id": "a54cb8ac",
   "metadata": {},
   "outputs": [
    {
     "ename": "IndexError",
     "evalue": "list index out of range",
     "output_type": "error",
     "traceback": [
      "\u001b[31m---------------------------------------------------------------------------\u001b[39m",
      "\u001b[31mIndexError\u001b[39m                                Traceback (most recent call last)",
      "\u001b[36mCell\u001b[39m\u001b[36m \u001b[39m\u001b[32mIn[6]\u001b[39m\u001b[32m, line 2\u001b[39m\n\u001b[32m      1\u001b[39m number = \u001b[38;5;28mlist\u001b[39m(\u001b[38;5;28mrange\u001b[39m(\u001b[32m6\u001b[39m))\n\u001b[32m----> \u001b[39m\u001b[32m2\u001b[39m \u001b[43mnumber\u001b[49m\u001b[43m[\u001b[49m\u001b[32;43m7\u001b[39;49m\u001b[43m]\u001b[49m\n",
      "\u001b[31mIndexError\u001b[39m: list index out of range"
     ]
    }
   ],
   "source": [
    "number = list(range(6))\n",
    "number[7]"
   ]
  },
  {
   "cell_type": "markdown",
   "id": "290d257b",
   "metadata": {},
   "source": [
    "logical error"
   ]
  },
  {
   "cell_type": "code",
   "execution_count": 9,
   "id": "f79e6aea",
   "metadata": {},
   "outputs": [
    {
     "name": "stdout",
     "output_type": "stream",
     "text": [
      "18.84955592153876\n"
     ]
    }
   ],
   "source": [
    "import numpy as np\n",
    "\n",
    "area = lambda radius: np.pi*radius\n",
    "\n",
    "print(area(6))\n",
    "\n",
    "#fel area, pi*radius^2"
   ]
  },
  {
   "cell_type": "markdown",
   "id": "be09bbe3",
   "metadata": {},
   "source": [
    "## try - except"
   ]
  },
  {
   "cell_type": "code",
   "execution_count": 13,
   "id": "2a0bfa7c",
   "metadata": {},
   "outputs": [
    {
     "name": "stdout",
     "output_type": "stream",
     "text": [
      "your age is 6.5 years\n"
     ]
    }
   ],
   "source": [
    "age = input(\"Enter your age: \")\n",
    "\n",
    "try:\n",
    "    age = float(age)\n",
    "    if not 6 < age < 7:\n",
    "        raise ValueError(\"age must be six seveeeen\")\n",
    "    print(f\"your age is {age} years\")\n",
    "except ValueError as e:\n",
    "    print(f\"invalid input: {e}\")\n"
   ]
  },
  {
   "cell_type": "code",
   "execution_count": 15,
   "id": "9dd21cf7",
   "metadata": {},
   "outputs": [
    {
     "name": "stdout",
     "output_type": "stream",
     "text": [
      "invalid input: age must be six seveeeen\n",
      "invalid input: age must be six seveeeen\n",
      "invalid input: age must be six seveeeen\n",
      "invalid input: could not convert string to float: 'five'\n",
      "invalid input: could not convert string to float: 'eri'\n",
      "your age is 6.5 years\n"
     ]
    }
   ],
   "source": [
    "while True:\n",
    "    age = input(\"Enter your age: \")\n",
    "\n",
    "    try:\n",
    "        age = float(age)\n",
    "        if not 6 < age < 7:\n",
    "            raise ValueError(\"age must be six seveeeen\")\n",
    "        print(f\"your age is {age} years\")\n",
    "        break\n",
    "    except ValueError as e:\n",
    "        print(f\"invalid input: {e}\")"
   ]
  }
 ],
 "metadata": {
  "kernelspec": {
   "display_name": "Python_Yousif_Alsaedi_DE25",
   "language": "python",
   "name": "python3"
  },
  "language_info": {
   "codemirror_mode": {
    "name": "ipython",
    "version": 3
   },
   "file_extension": ".py",
   "mimetype": "text/x-python",
   "name": "python",
   "nbconvert_exporter": "python",
   "pygments_lexer": "ipython3",
   "version": "3.12.10"
  }
 },
 "nbformat": 4,
 "nbformat_minor": 5
}
