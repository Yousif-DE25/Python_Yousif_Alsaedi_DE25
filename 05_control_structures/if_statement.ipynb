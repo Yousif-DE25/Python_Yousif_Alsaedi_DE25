{
 "cells": [
  {
   "cell_type": "markdown",
   "id": "abb4d0a7",
   "metadata": {},
   "source": [
    "# If Statement"
   ]
  },
  {
   "cell_type": "code",
   "execution_count": 2,
   "id": "0dc11bc9",
   "metadata": {},
   "outputs": [
    {
     "name": "stdout",
     "output_type": "stream",
     "text": [
      "Sorry you are too young to buy alcohol\n",
      "Drink soda until then\n"
     ]
    }
   ],
   "source": [
    "age = int(input(\"Enter your age: \"))\n",
    "age_limit = 20\n",
    "\n",
    "if age_limit > age:\n",
    "    print(\"Sorry you are too young to buy alcohol\")\n",
    "    print(\"Drink soda until then\")\n",
    "else:\n",
    "    print(\"Drink wisely!\")"
   ]
  },
  {
   "cell_type": "code",
   "execution_count": 9,
   "id": "efe7d58a",
   "metadata": {},
   "outputs": [
    {
     "name": "stdout",
     "output_type": "stream",
     "text": [
      "Welcome to the club coster\n"
     ]
    }
   ],
   "source": [
    "age = 19\n",
    "height = 200\n",
    "\n",
    "if age > 18 and 150 < height < 220:\n",
    "    print(\"Welcome to the club coster\")\n",
    "else:\n",
    "    print(\"Get longer\")\n"
   ]
  },
  {
   "cell_type": "markdown",
   "id": "6fdaf02b",
   "metadata": {},
   "source": [
    "## modulo operator "
   ]
  },
  {
   "cell_type": "code",
   "execution_count": 2,
   "id": "cc3c09c8",
   "metadata": {},
   "outputs": [
    {
     "name": "stdout",
     "output_type": "stream",
     "text": [
      "Odd number\n"
     ]
    }
   ],
   "source": [
    "number = 5\n",
    "if number % 2 == 0:\n",
    "    print(\"Even number\")\n",
    "else:\n",
    "    print(\"Odd number\")"
   ]
  },
  {
   "cell_type": "markdown",
   "id": "ccca6cb4",
   "metadata": {},
   "source": [
    "## Truthy and falsy"
   ]
  },
  {
   "cell_type": "code",
   "execution_count": 7,
   "id": "91696314",
   "metadata": {},
   "outputs": [
    {
     "name": "stdout",
     "output_type": "stream",
     "text": [
      "Odd number\n"
     ]
    }
   ],
   "source": [
    "number = 5\n",
    "if not number % 2:\n",
    "    print(\"Even number\")\n",
    "else:\n",
    "    print(\"Odd number\")"
   ]
  },
  {
   "cell_type": "code",
   "execution_count": 8,
   "id": "29f1bde9",
   "metadata": {},
   "outputs": [
    {
     "name": "stdout",
     "output_type": "stream",
     "text": [
      "Odd number\n"
     ]
    }
   ],
   "source": [
    "number = 5\n",
    "if number % 2:\n",
    "    print(\"Odd number\")\n",
    "else:\n",
    "    print(\"Even number\")"
   ]
  },
  {
   "cell_type": "code",
   "execution_count": 11,
   "id": "d6f2965d",
   "metadata": {},
   "outputs": [
    {
     "name": "stdout",
     "output_type": "stream",
     "text": [
      "Falsy\n"
     ]
    }
   ],
   "source": [
    "if []:\n",
    "    print(\"Truthy\")\n",
    "else:\n",
    "    print(\"Falsy\")"
   ]
  },
  {
   "cell_type": "code",
   "execution_count": 12,
   "id": "5b28c217",
   "metadata": {},
   "outputs": [
    {
     "name": "stdout",
     "output_type": "stream",
     "text": [
      "Truthy\n"
     ]
    }
   ],
   "source": [
    "if [1]:\n",
    "    print(\"Truthy\")\n",
    "else:\n",
    "    print(\"Falsy\")"
   ]
  },
  {
   "cell_type": "code",
   "execution_count": null,
   "id": "20c96dd4",
   "metadata": {},
   "outputs": [
    {
     "name": "stdout",
     "output_type": "stream",
     "text": [
      "Truthy\n"
     ]
    }
   ],
   "source": [
    "if -1:\n",
    "    print(\"Truthy\")\n",
    "else:\n",
    "    print(\"Falsy\")"
   ]
  },
  {
   "cell_type": "markdown",
   "id": "382c84c2",
   "metadata": {},
   "source": [
    "## if_elif_else"
   ]
  },
  {
   "cell_type": "code",
   "execution_count": 33,
   "id": "5f14a851",
   "metadata": {},
   "outputs": [
    {
     "name": "stdout",
     "output_type": "stream",
     "text": [
      "Here take a 0.5\n"
     ]
    }
   ],
   "source": [
    "money = 10\n",
    "\n",
    "if money >= 250:\n",
    "    print(\"Give him 2.5g\")\n",
    "elif money >= 500:\n",
    "    print(\"Give him 5g\")\n",
    "else:\n",
    "    print(\"Here take a 0.5\")"
   ]
  },
  {
   "cell_type": "markdown",
   "id": "13c5a790",
   "metadata": {},
   "source": [
    "## nested if statment"
   ]
  },
  {
   "cell_type": "code",
   "execution_count": 41,
   "id": "a0fd8390",
   "metadata": {},
   "outputs": [],
   "source": [
    "number = 18\n",
    "if number % 5 == 0:\n",
    "    print(f\"{number} is divided by 5\")\n",
    "    if number % 2 == 0:\n",
    "        print(f\"{number} is odd\")\n",
    "    else:\n",
    "        print(f\"{number} is even\")\n"
   ]
  },
  {
   "cell_type": "markdown",
   "id": "61b58f82",
   "metadata": {},
   "source": [
    "## one line-if statment"
   ]
  },
  {
   "cell_type": "code",
   "execution_count": null,
   "id": "c8516fe6",
   "metadata": {},
   "outputs": [
    {
     "name": "stdout",
     "output_type": "stream",
     "text": [
      "Linus contains letter L\n"
     ]
    }
   ],
   "source": [
    "name = \"Linus\"\n",
    "gender = \"hund\"\n",
    "age = 21\n",
    "# one line if-else\n",
    "if \"l\" in name.lower(): print(f\"{name} contains letter L\")"
   ]
  },
  {
   "cell_type": "code",
   "execution_count": null,
   "id": "ba7a8691",
   "metadata": {},
   "outputs": [
    {
     "name": "stdout",
     "output_type": "stream",
     "text": [
      "Hi hunden Linus\n"
     ]
    }
   ],
   "source": [
    "\n",
    "print(f\"Hi Mr {name}\") if gender == \"human\" else print(f\"Hi hunden {name}\")"
   ]
  },
  {
   "cell_type": "code",
   "execution_count": null,
   "id": "4e2c3e63",
   "metadata": {},
   "outputs": [
    {
     "data": {
      "text/plain": [
       "True"
      ]
     },
     "execution_count": 56,
     "metadata": {},
     "output_type": "execute_result"
    }
   ],
   "source": [
    "age = 25\n",
    "# one line if-else assignment\n",
    "is_of_age = True if age >= 21 else False\n",
    "is_of_age\n"
   ]
  }
 ],
 "metadata": {
  "kernelspec": {
   "display_name": "Python_Yousif_Alsaedi_DE25",
   "language": "python",
   "name": "python3"
  },
  "language_info": {
   "codemirror_mode": {
    "name": "ipython",
    "version": 3
   },
   "file_extension": ".py",
   "mimetype": "text/x-python",
   "name": "python",
   "nbconvert_exporter": "python",
   "pygments_lexer": "ipython3",
   "version": "3.12.10"
  }
 },
 "nbformat": 4,
 "nbformat_minor": 5
}
