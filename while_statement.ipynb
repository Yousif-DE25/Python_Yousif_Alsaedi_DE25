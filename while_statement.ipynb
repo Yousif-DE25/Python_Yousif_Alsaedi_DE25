{
 "cells": [
  {
   "cell_type": "markdown",
   "id": "8d21be9c",
   "metadata": {},
   "source": [
    "# While statement"
   ]
  },
  {
   "cell_type": "code",
   "execution_count": 9,
   "id": "a66bac0f",
   "metadata": {},
   "outputs": [
    {
     "name": "stdout",
     "output_type": "stream",
     "text": [
      "The number: 0\n",
      "The number: 1\n",
      "The number: 2\n",
      "The number: 3\n",
      "The number: 4\n",
      "The number: 5\n",
      "The number: 6\n",
      "The number: 7\n",
      "The number: 8\n",
      "The number: 9\n",
      "The number: 10\n"
     ]
    }
   ],
   "source": [
    "n = 0\n",
    "\n",
    "while n <= 10:\n",
    "    print(f\"The number: {n}\")\n",
    "    n += 1"
   ]
  },
  {
   "cell_type": "markdown",
   "id": "be4dad2c",
   "metadata": {},
   "source": [
    "## Example - Oil leakage"
   ]
  },
  {
   "cell_type": "markdown",
   "id": "ac177d0e",
   "metadata": {},
   "source": [
    "### Birds 75000, how long for 1/8, each year 1/2"
   ]
  },
  {
   "cell_type": "code",
   "execution_count": 1,
   "id": "c2d293ab",
   "metadata": {},
   "outputs": [
    {
     "name": "stdout",
     "output_type": "stream",
     "text": [
      "Year 0 there were 75000 birds\n",
      "Year 1 there were 37500 birds\n",
      "Year 2 there were 18750 birds\n",
      "It takes 3 years for birds to be 1/8 population\n"
     ]
    }
   ],
   "source": [
    "birds = 75000\n",
    "years = 0\n",
    "\n",
    "while birds > 9375:\n",
    "    print(f\"Year {years} there were {birds:.0f} birds\")\n",
    "    birds /= 2\n",
    "    years += 1\n",
    "\n",
    "print(f\"It takes {years} years for birds to be 1/8 population\")\n"
   ]
  },
  {
   "cell_type": "markdown",
   "id": "79538168",
   "metadata": {},
   "source": [
    "## Break statment"
   ]
  },
  {
   "cell_type": "code",
   "execution_count": 3,
   "id": "84ef1e69",
   "metadata": {},
   "outputs": [
    {
     "name": "stdout",
     "output_type": "stream",
     "text": [
      "Correct:D\n",
      "Correct:D\n",
      "Thank you, bye\n"
     ]
    }
   ],
   "source": [
    "import random as rnd\n",
    "\n",
    "while True:\n",
    "    first = rnd.randint(1,10)\n",
    "    second = rnd.randint(1,10)\n",
    "\n",
    "    user_answering = int(input(f\"What is {first} * {second}\"))\n",
    "\n",
    "    if user_answering == first*second:\n",
    "        print(\"Correct:D\")\n",
    "    else:\n",
    "        print(f\"Wrong! answer = {first*second}\")\n",
    "    \n",
    "    Play_again = input(\"Play again, yes or no?\")\n",
    "\n",
    "    if Play_again != \"yes\":\n",
    "        print(\"Thank you, bye\")\n",
    "        break\n",
    "\n"
   ]
  }
 ],
 "metadata": {
  "kernelspec": {
   "display_name": "Python_Yousif_Alsaedi_DE25",
   "language": "python",
   "name": "python3"
  },
  "language_info": {
   "codemirror_mode": {
    "name": "ipython",
    "version": 3
   },
   "file_extension": ".py",
   "mimetype": "text/x-python",
   "name": "python",
   "nbconvert_exporter": "python",
   "pygments_lexer": "ipython3",
   "version": "3.12.10"
  }
 },
 "nbformat": 4,
 "nbformat_minor": 5
}
