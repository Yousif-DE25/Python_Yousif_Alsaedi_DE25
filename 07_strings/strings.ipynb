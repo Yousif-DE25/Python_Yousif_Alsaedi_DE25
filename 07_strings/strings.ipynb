{
 "cells": [
  {
   "cell_type": "markdown",
   "id": "27647117",
   "metadata": {},
   "source": [
    "# Strings"
   ]
  },
  {
   "cell_type": "code",
   "execution_count": 1,
   "id": "b7e75e7f",
   "metadata": {},
   "outputs": [
    {
     "data": {
      "text/plain": [
       "'majd mano'"
      ]
     },
     "execution_count": 1,
     "metadata": {},
     "output_type": "execute_result"
    }
   ],
   "source": [
    "first_name = \"majd\"\n",
    "last_name = \"mano\"\n",
    "\n",
    "fullname = first_name + \" \" + last_name\n",
    "fullname"
   ]
  },
  {
   "cell_type": "code",
   "execution_count": 8,
   "id": "79131ad0",
   "metadata": {},
   "outputs": [],
   "source": [
    "work = \"skibidi\"\n",
    "age = 15\n",
    "intreset = [\"leka me den\", \"gamea\"]\n",
    "\n",
    "person_detail = f\"\"\"\n",
    "name: {fullname}\n",
    "work: {work}\n",
    "age: {age}\n",
    "intreset: {intreset}\n",
    "\"\"\""
   ]
  },
  {
   "cell_type": "code",
   "execution_count": 9,
   "id": "e9930e58",
   "metadata": {},
   "outputs": [
    {
     "name": "stdout",
     "output_type": "stream",
     "text": [
      "\n",
      "name: majd mano\n",
      "work: skibidi\n",
      "age: 15\n",
      "intreset: ['leka me den', 'gamea']\n",
      "\n"
     ]
    }
   ],
   "source": [
    "print(person_detail)"
   ]
  },
  {
   "cell_type": "code",
   "execution_count": 19,
   "id": "20e24648",
   "metadata": {},
   "outputs": [
    {
     "name": "stdout",
     "output_type": "stream",
     "text": [
      "weekly menu\n",
      "må    hamburgir\n",
      "ti    frabbe\n",
      "on    skibidi\n",
      "to    mbappe\n",
      "fr    kfc\n",
      "\n"
     ]
    }
   ],
   "source": [
    "menu = [\"hamburgir\", \"frabbe\", \"skibidi\", \"mbappe\", \"kfc\"]\n",
    "days = [\"må\", \"ti\", \"on\", \"to\", \"fr\"]\n",
    "\n",
    "weekly_menu = \"weekly menu\\n\"\n",
    "\n",
    "for day, food in zip(days, menu):\n",
    "    weekly_menu += f\"{day:<5} {food}\\n\"\n",
    "\n",
    "print(weekly_menu)"
   ]
  },
  {
   "cell_type": "code",
   "execution_count": 20,
   "id": "2ebc3dd0",
   "metadata": {},
   "outputs": [
    {
     "data": {
      "text/plain": [
       "'!False - its actually true'"
      ]
     },
     "execution_count": 20,
     "metadata": {},
     "output_type": "execute_result"
    }
   ],
   "source": [
    "quote = \"!False - its actually true\"\n",
    "quote"
   ]
  },
  {
   "cell_type": "code",
   "execution_count": 22,
   "id": "98e7745e",
   "metadata": {},
   "outputs": [
    {
     "data": {
      "text/plain": [
       "'eurt yllautca sti - eslaF!'"
      ]
     },
     "execution_count": 22,
     "metadata": {},
     "output_type": "execute_result"
    }
   ],
   "source": [
    "quote[::-1]"
   ]
  },
  {
   "cell_type": "markdown",
   "id": "718a996b",
   "metadata": {},
   "source": [
    "## split and cleaning string"
   ]
  },
  {
   "cell_type": "code",
   "execution_count": 30,
   "id": "0f5f97a3",
   "metadata": {},
   "outputs": [
    {
     "data": {
      "text/plain": [
       "'SamhälLe ,  mAtte,manajKE , keMI'"
      ]
     },
     "execution_count": 30,
     "metadata": {},
     "output_type": "execute_result"
    }
   ],
   "source": [
    "subjects = \"SamhälLe ,  mAtte,manajKE , keMI\" \n",
    "subjects"
   ]
  },
  {
   "cell_type": "code",
   "execution_count": 31,
   "id": "1a517657",
   "metadata": {},
   "outputs": [
    {
     "data": {
      "text/plain": [
       "['SamhälLe ', '  mAtte', 'manajKE ', ' keMI']"
      ]
     },
     "execution_count": 31,
     "metadata": {},
     "output_type": "execute_result"
    }
   ],
   "source": [
    "subjects = subjects.split(\",\")\n",
    "subjects"
   ]
  },
  {
   "cell_type": "code",
   "execution_count": 35,
   "id": "0a2f6e15",
   "metadata": {},
   "outputs": [
    {
     "name": "stdout",
     "output_type": "stream",
     "text": [
      "samhälle has 8 characters\n",
      "matte has 5 characters\n",
      "manajke has 7 characters\n",
      "kemi has 4 characters\n"
     ]
    }
   ],
   "source": [
    "subjects = [subject.strip().lower() for subject in subjects]\n",
    "for subject in subjects:\n",
    "    print(f\"{subject} has {len(subject)} characters\")"
   ]
  },
  {
   "cell_type": "markdown",
   "id": "f8625751",
   "metadata": {},
   "source": [
    "## regex "
   ]
  },
  {
   "cell_type": "code",
   "execution_count": 40,
   "id": "92644c87",
   "metadata": {},
   "outputs": [
    {
     "data": {
      "text/plain": [
       "['kropp', 'snopp']"
      ]
     },
     "execution_count": 40,
     "metadata": {},
     "output_type": "execute_result"
    }
   ],
   "source": [
    "import re\n",
    "\n",
    "text = \"det var en gång en kropp som hade en lite snopp\"\n",
    "match_list = re.findall(r\"..opp\", text)\n",
    "match_list"
   ]
  },
  {
   "cell_type": "code",
   "execution_count": 63,
   "id": "66d26b92",
   "metadata": {},
   "outputs": [
    {
     "data": {
      "text/plain": [
       "['073454392', '072987432', '076678534']"
      ]
     },
     "execution_count": 63,
     "metadata": {},
     "output_type": "execute_result"
    }
   ],
   "source": [
    "people_number = \"majod: 073454392, bano: 072987432, kriti: 076678534\"\n",
    "match_number = re.findall(r\"\\d{7}\\d{2}\", people_number)\n",
    "match_number"
   ]
  },
  {
   "cell_type": "code",
   "execution_count": 64,
   "id": "48570f2b",
   "metadata": {},
   "outputs": [
    {
     "data": {
      "text/plain": [
       "['073454', '072987', '076678']"
      ]
     },
     "execution_count": 64,
     "metadata": {},
     "output_type": "execute_result"
    }
   ],
   "source": [
    "match_bumber = re.findall(r\"\\d{4}\\d{2}\", people_number)\n",
    "match_bumber"
   ]
  }
 ],
 "metadata": {
  "kernelspec": {
   "display_name": "Python_Yousif_Alsaedi_DE25",
   "language": "python",
   "name": "python3"
  },
  "language_info": {
   "codemirror_mode": {
    "name": "ipython",
    "version": 3
   },
   "file_extension": ".py",
   "mimetype": "text/x-python",
   "name": "python",
   "nbconvert_exporter": "python",
   "pygments_lexer": "ipython3",
   "version": "3.12.10"
  }
 },
 "nbformat": 4,
 "nbformat_minor": 5
}
